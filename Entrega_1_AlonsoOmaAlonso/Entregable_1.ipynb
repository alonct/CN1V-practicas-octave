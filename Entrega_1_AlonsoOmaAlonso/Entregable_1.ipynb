{
 "cells": [
  {
   "cell_type": "code",
   "execution_count": null,
   "metadata": {},
   "outputs": [],
   "source": [
    "clear all\n",
    "addpath('./BibliotecaEntrega')\n",
    "graphics_toolkit (\"gnuplot\"); %% Comando solo para jupyter notebooks"
   ]
  },
  {
   "cell_type": "markdown",
   "metadata": {},
   "source": [
    "# Entrega de Prácticas 1\n",
    "\n",
    "Para poder corregir  de forma adecuada, seguiremos el siguiente proceso.\n",
    "\n",
    "* Se creerá una «Tarea» en el Aula Virtual correspondiente a esta entrega.\n",
    "\n",
    "* Todos los programas de Octave que crees debes colocarlos en la carpeta Biblioteca, si son de propósito general, o bien en una carpeta denominada Entrega1 si corresponden a programas que utilizan las funciones incluidas en Biblioteca y que resuelven distintos apartados concretos de la práctica.\n",
    "\n",
    "* Una vez hayas terminado tu trabajo, debes crear un archivo zip de tu carpeta de trabajo con Octave y de forma que contenga al menos las dos carpetas anteriores. Si quieres incluir algún archivo de texto o pdf con comentarios u otras cuestiones puedes hacerlo en el mismo zip. También puedes incluir los comentarios en los scripts de Octave o en la casilla destinada para ellos en el envío de la tarea del Aula Virtual.\n",
    "\n",
    "* Finalmente debes subir este archivo *.zip* a la Tarea de Aula Virtual.\n",
    "\n",
    "\n",
    "<span style=\"color: orange;\">\n",
    "Fecha de inicio: 11 de noviembre de 2022\n",
    "\n",
    "Fecha de entrega: 10 de diciembre de 2022\n",
    "\n",
    "</span>\n",
    "<span style=\"color: cyan;\">\n",
    "\n",
    "Se valorarán muy positivamente los comentarios y observaciones acerca de los ejercicios realizados y de los resultados numéricos y gráficos obtenidos, naturalmente siempre que sean adecuados y correctos. También se valorará muy positivamente la eficiencia del código, en particular el uso del cálculo en forma vectorial para el que Octave está muy bien adaptado.\n",
    "\n",
    "</span>\n",
    "\n",
    "\n",
    "## Introducción\n",
    "\n",
    "El objetivo general de esta práctica es la experimentación con el cálculo del polinomio interpolador\n",
    "en sus distintas formas, y en particular, la estabilidad de la evaluación de dicho polinomio. En el último\n",
    "ejercicio haremos una experiencia acerca de cómo pueden afectar los errores de redondeo de los datos a\n",
    "los resultados finales (seguimos, por tanto, en torno al problema de la estabilidad).\n",
    "\n",
    "A estas alturas tenemos a nuestra disposición (en teoría) varias formas de calcular y evaluar un\n",
    "polinomio interpolador. Esta formas son (en términos generales):\n",
    "\n",
    "* Calcular los coeficientes del polinomio en su forma de Newton y evaluarlo mediante el método de Horner.\n",
    "\n",
    "* Calcular los coeficientes de la forma de Lagrange (que es un polinomio escrito en la forma habitual $a_nx^n + ... + a_1x + a_0)$ y evaluarlo mediante el método de Horner.\n",
    "\n",
    "* Evaluar directamente el polinomio mediante la forma de Lagrange.\n",
    "\n",
    "La primera de las formas anteriores ya es conocida y ya la tenemos programada; ha sido la forma habitual de cálculo, hasta ahora. El primer ejercicio (ya iniciado en la práctica 4) tiene por objetivo implementar en Octave el segundo procedimiento. El tercer procedimiento lo implementaremos en el segundo ejercicio, a través de la conocida como «fórmula baricéntrica» para el polinomio de Lagrange.\n",
    "\n",
    "\n",
    "## Ejercicio 1\n",
    "\n",
    "Este ejercicio es prácticamente idéntico al ejercicio 3 de la práctica 4: sólo hay pequeños cambios en el enunciado, aparte del cambio de numeración del mismo y de sus scripts: sólo tienes que copiar a la carpeta **/Entrega1**, o a **/Biblioteca**, los scripts o funciones que ya tienes realizados, cambiándoles la numeración y completando los pequeños cambios.\n",
    "\n",
    "### Apartado a)\n",
    "\n",
    "Escribe una función denominada **factLagrange.m**, que guardaras en */Biblioteca*, que realice la tarea siguiente: a partir de su único argumento **x**, que es el vector de nodos de interpolación $(x = \\{x_0, . . . , x_n\\})$, devuelve una matriz cuya fila k-ésima contiene los coeficientes del factor de Lagrange (k = 0, . . . , n): \n",
    "\n",
    "$$L_k(x) = \\prod ^{n}_{j = 0 j\\neq k}\\frac{x-x_j}{x_k -x_j}$$\n",
    "\n",
    "Para facilitar la tarea usaremos la función de Octave **conv(p,q)** que devuelve el polinomio producto de los polinomios _*p*_ y _*q* _(¡recuerda cómo se representan los polinomios en Octave!).\n",
    "\n",
    "#### Solución:\n",
    "\n",
    "Recordamos que los polinomios se representan en octave a través de sus coeficientes ordenados de mayor a menor grado."
   ]
  },
  {
   "cell_type": "code",
   "execution_count": 6,
   "metadata": {},
   "outputs": [],
   "source": [
    "%% /Biblioteca/factLagrange.m\n",
    "\n",
    "function ret = factLagrange(x)\n",
    "\n",
    "    matriz = zeros(length(x), length(x));\n",
    "\n",
    "    for i=1:length(x)\n",
    "        p=1;\n",
    "        for j=1:length(x)\n",
    "            if j~=i\n",
    "                c = poly(x(j))/(x(i)-x(j)); % Poly devuleve los coeficientes del polinomio cuyas raíces son el argumento dado, es decir, \n",
    "                                            % en este caso poly(x(j)) = 1*x -x(j)*x^0 = [1, -x(j)] en notación de octave.\n",
    "                p = conv(p,c);\n",
    "            end\n",
    "        end\n",
    "        matriz(i, :) = p;\n",
    "    endfor\n",
    "    ret = matriz;\n",
    "endfunction"
   ]
  },
  {
   "cell_type": "code",
   "execution_count": 7,
   "metadata": {},
   "outputs": [],
   "source": [
    "% Otra firma de escribir la función anterior.\n",
    "\n",
    "function ret = PruebaLG (x)\n",
    "    matriz = zeros(length(x), length(x));\n",
    "\n",
    "    for i=1:length(x)\n",
    "        p=1;\n",
    "        c = poly(x( (1:length(x)) ~= i ));\n",
    "        matriz(i, :) = c / polyval(c, x(i));\n",
    "    endfor\n",
    "    ret = matriz;\n",
    "endfunction"
   ]
  },
  {
   "cell_type": "markdown",
   "metadata": {},
   "source": [
    "### Apartado b)\n",
    "\n",
    "Crea en */Biblioteca* la función **interpolLagrange.m** que espera como argumentos la matriz de coeficientes de los factores de Lagrange y el vector de ordenadas a interpolar, y devuelve los coeficientes del polinomio interpolador en la forma de Lagrange:\n",
    "\n",
    "$$p(x) = \\sum ^{n}_{k=0} y_k L_k(x)$$\n",
    "\n",
    "#### Solución:"
   ]
  },
  {
   "cell_type": "code",
   "execution_count": 8,
   "metadata": {},
   "outputs": [],
   "source": [
    "%% /Biblioteca/interpolLagrange.m\n",
    "\n",
    "function ret = interpolLagrange (matriz, y)\n",
    "\n",
    "    suma = 0;\n",
    "    for i=1:length(y)\n",
    "        term = y(i) * matriz(i, :);\n",
    "        suma = suma + term;\n",
    "    endfor\n",
    "\n",
    "    ret = suma;\n",
    "\n",
    "endfunction"
   ]
  },
  {
   "cell_type": "markdown",
   "metadata": {},
   "source": [
    "### Apartado c)\n",
    "\n",
    "Para verificar que la implementación es correcta: escribe en el script **Ejercicio3_1.m** el cálculo de los coeficientes del polinomio interpolador en los conjuntos de puntos\n",
    "\n",
    "$$\\{(0, 0), (1, 2), (2, 4), (5, 10)\\}\\quad y \\quad\\{(0, 0), (1, 1), (2, 8), (3, 27)\\}.$$\n",
    "\n",
    "¿Coinciden exactamente los polinomios que produce el script con los esperados? Si no es así, ¿hay alguna explicación o hay errores en el script?\n",
    "\n",
    "#### Solución:\n",
    "\n",
    "El segudo ejemplo si da el polinomio exacto, pero en el primero se añade un coeficiente muy pequeño multiplicando a $x^3$. Este error será provocado por los errores de cálculo de la máquina."
   ]
  },
  {
   "cell_type": "code",
   "execution_count": 10,
   "metadata": {},
   "outputs": [
    {
     "name": "stdout",
     "output_type": "stream",
     "text": [
      "2.7756e-17*x^3 + 0*x^2 + 2*x^1 + 0\n",
      "1*x^3 + 0*x^2 + 0*x^1 + 0\n"
     ]
    },
    {
     "data": {
      "image/png": "[encoded data removed]",
      "text/plain": [
       "<IPython.core.display.Image object>"
      ]
     },
     "metadata": {},
     "output_type": "display_data"
    },
    {
     "data": {
      "image/png": "[encoded data removed]",
      "text/plain": [
       "<IPython.core.display.Image object>"
      ]
     },
     "metadata": {},
     "output_type": "display_data"
    }
   ],
   "source": [
    "%% Ejercicio3_1.m\n",
    "\n",
    "clear all\n",
    "\n",
    "%% Esta fución la he definido para ahorrar líneas de código.\n",
    "function ret = Lagrange(x, y)\n",
    "    matriz = factLagrange(x);\n",
    "    polinomio = interpolLagrange(matriz, y);\n",
    "    ret = polinomio;\n",
    "endfunction\n",
    "\n",
    "x_1 = [0, 1, 2, 5];\n",
    "y_1 = x_1 .* 2;\n",
    "\n",
    "x_2 = [0, 1, 2, 3];\n",
    "y_2 = x_2 .^ 3;\n",
    "\n",
    "pol_1 = Lagrange(x_1, y_1);\n",
    "pol_2 = Lagrange(x_2, y_2);\n",
    "\n",
    "intervalo = linspace(0, 5, 500);\n",
    "\n",
    "polyout(pol_1, 'x')\n",
    "figure(1)\n",
    "plot(intervalo, polyval(pol_1, intervalo), x_1, y_1, '*', 'color', 'k')\n",
    "title(\"y = 2*x\")\n",
    "\n",
    "polyout(pol_2, 'x')\n",
    "figure(2)\n",
    "plot(intervalo, polyval(pol_2, intervalo), x_2, y_2, '*', 'color', 'k')\n",
    "title(\"y = x^3\")"
   ]
  },
  {
   "cell_type": "markdown",
   "metadata": {},
   "source": [
    "### Apartado c)\n",
    "\n",
    "Una vez creadas las funciones anteriores disponemos ya del polinomio interpolador en la forma de Lagrange: para evaluarlo en un vector de abscisas, z, utilizaremos la siguiente función de Octave **polyval(p,z)** que devuelve el vector de las evaluaciones del polinomio p en z: este cálculo está implementado\n",
    "en Octave mediante el método de Horner (así que no vale la pena que lo implementemos nosotros...)\n",
    "\n",
    "Para comparar los resultados de ambas formas de cálculo utilizaremos la interpolación de la función _sen(x)_ en el intervalo [0, 2π], mediante nodos equidistribuidos: $x_0 = a$, $x_k = a + k\\frac{2π}{n}$.\n",
    "\n",
    "Para esta función sabemos que los polinomios interpoladores $p_n(x)$ convergen uniformemente a *f(x)*, por lo que si aumentamos considerablemente el número de puntos a interpolar deberíamos aproximar más y más a la función...\n",
    "\n",
    "#### Solución:"
   ]
  },
  {
   "cell_type": "code",
   "execution_count": 11,
   "metadata": {},
   "outputs": [
    {
     "data": {
      "image/png": "[encoded data removed]",
      "text/plain": [
       "<IPython.core.display.Image object>"
      ]
     },
     "metadata": {},
     "output_type": "display_data"
    }
   ],
   "source": [
    "clear all\n",
    "\n",
    "function ret = Lagrange(x, y)\n",
    "    matriz = factLagrange(x);\n",
    "    polinomio = interpolLagrange(matriz, y);\n",
    "    ret = polinomio;\n",
    "endfunction\n",
    "\n",
    "a = 3;\n",
    "n = [5, 10, 15];\n",
    "interval = linspace(0, 2*pi, 500);\n",
    "interval = interval + a;\n",
    "\n",
    "figure(1)\n",
    "plot(interval, sin(interval), \";Sin(x);\")\n",
    "hold on\n",
    "\n",
    "for i=1:length(n)\n",
    "\n",
    "    x = linspace(a, 2*pi + a, n(i));\n",
    "    y = sin(x);\n",
    "\n",
    "    plot(interval, polyval(Lagrange(x, y), interval), sprintf(';P_%u(x);', i), x, y, '*')\n",
    "\n",
    "endfor\n",
    "\n",
    "\n",
    "ylim([-1.2, 1.2]);\n",
    "xlim([0 + a, 2*pi + a]);"
   ]
  },
  {
   "cell_type": "markdown",
   "metadata": {},
   "source": [
    "### Apartado e)\n",
    "\n",
    "Crea el script **Ejercicio3_2.m** que para un valor de n realice las tareas siguientes:\n",
    "\n",
    "* en una primera ventana gráfica incluya las gráficas de *f* y del polinomio interpolador en la forma de Newton;\n",
    "\n",
    "* en una segunda ventana gráfica incluya las gráficas de *f* y del polinomio interpolador en la forma de Lagrange;\n",
    "\n",
    "* en otra ventana incluya la gráfica del valor absoluto de la diferencia de los dos polinomios interpoladores;\n",
    "\n",
    "* nos dé como salida en la ventana de comandos el máximo del valor absoluto de la diferencia anterior (calculado sobre una malla de puntos en el intervalo $[0, 2\\pi]$).\n",
    "\n",
    "Ejecuta el script anterior para distintos valores de n, por ejemplo: 5, 10, 15 y otros mayores, por ejemplo 20, 30, 40. ¿Qué observas? Observa que las diferencias grandes aparecen cerca de los extremos del intervalo, ¿tiene esto que ver con el fenómeno de Runge? Comenta lo que consideres adecuado sobre la estabilidad de los cálculos en una u otra forma.\n",
    "\n",
    "#### Solución:"
   ]
  },
  {
   "cell_type": "code",
   "execution_count": 12,
   "metadata": {},
   "outputs": [
    {
     "name": "stdout",
     "output_type": "stream",
     "text": [
      "error_Newton_max = 7.2219e-05\n",
      "error_Lagrange_max = 7.2219e-05\n"
     ]
    },
    {
     "data": {
      "image/png": "[encoded data removed]",
      "text/plain": [
       "<IPython.core.display.Image object>"
      ]
     },
     "metadata": {},
     "output_type": "display_data"
    },
    {
     "data": {
      "image/png": "[encoded data removed]",
      "text/plain": [
       "<IPython.core.display.Image object>"
      ]
     },
     "metadata": {},
     "output_type": "display_data"
    },
    {
     "data": {
      "image/png": "[encoded data removed]",
      "text/plain": [
       "<IPython.core.display.Image object>"
      ]
     },
     "metadata": {},
     "output_type": "display_data"
    }
   ],
   "source": [
    "% Ejercicio3_2.m\n",
    "\n",
    "clear all\n",
    "\n",
    "function ret = Lagrange(x, y)\n",
    "    matriz = factLagrange(x);\n",
    "    polinomio = interpolLagrange(matriz, y);\n",
    "    ret = polinomio;\n",
    "endfunction\n",
    "\n",
    "n = 10;\n",
    "a = 0;\n",
    "\n",
    "x = linspace(0 + a, 2*pi + a, n);\n",
    "y = sin(x);\n",
    "\n",
    "interval = linspace(0 + a, 2*pi + a, 500);\n",
    "\n",
    "figure(1)\n",
    "title(\"Newton\")\n",
    "hold on\n",
    "coef = interpolNewton(x, y);\n",
    "evalNetown = polyinterpolador_eval(coef, x, interval);\n",
    "plot(interval, evalNetown, \";newton(x);\", x, y, '*', 'color', 'k')\n",
    "plot(interval, sin(interval), \";sin(x);\")\n",
    "ylim([-1.2, 1.2]);\n",
    "xlim([0 + a, 2*pi + a]);\n",
    "hold off\n",
    "\n",
    "figure(2)\n",
    "title(\"Lagrange\")\n",
    "hold on\n",
    "evalLagrange = polyval(Lagrange(x, y), interval);\n",
    "plot(interval, evalLagrange, \";Lagrange(x);\", x, y, '*', 'color', 'k')\n",
    "plot(interval, sin(interval), \";sin(x);\")\n",
    "ylim([-1.2, 1.2]);\n",
    "xlim([0 + a, 2*pi + a]);\n",
    "hold off\n",
    "\n",
    "figure(3)\n",
    "title(\"Errores\")\n",
    "hold on\n",
    "error_newton = abs(evalNetown - sin(interval));\n",
    "plot(interval, error_newton, \";Error de Newton;\")\n",
    "error_Newton_max = max(error_newton)\n",
    "\n",
    "errorLagrange = abs(evalLagrange - sin(interval));\n",
    "plot(interval, errorLagrange, \";Error de Lagrange;\")\n",
    "error_Lagrange_max = max(errorLagrange)"
   ]
  },
  {
   "cell_type": "markdown",
   "metadata": {},
   "source": [
    "## Ejercicio 2:\n",
    "\n",
    "Como has podido comprobar, el procedimiento empleado en el ejercicio anterior para la evaluación del polinomio de Lagrange es inestable para valores de *n* no demasiado grandes. En este ejercicio vamos a implementar una forma de evaluación mucho más estable: se trata de utilizar la llamada forma baricéntrica para el polinomio de Lagrange.\n",
    "\n",
    "He aquí un breve cálculo que permite obtener dicha forma. El polinomio de Lagrange es $p(x) = \\sum _{i=0}^{n} y_i L_i(x)$, siendo $L_i$, para $i = 0,... , n$, los factores de Lagrange. Escribamos\n",
    "\n",
    "$$w_n(x) = \\prod _{j=0} ^{n} (x -x_j) \\quad \\text{y} \\quad \\lambda _i^n = \\prod _{j=0, j\\neq i} ^n \\frac{1}{x_i - x_j}$$\n",
    "\n",
    "Observa que $L_i(x) = \\frac{\\lambda _i^n}{x - x_i} w_n(x)$ para $x$ distinto de todos los nodos $x_i$. Entonces podemos escribir\n",
    "\n",
    "$$p(x) = \\sum _{i=0}^n y_iL_i(x) = \\sum _{i=0}^n y_i \\frac{\\lambda _i^n}{x - x_i} w_n(x)$$\n",
    "\n",
    "que es válido pata todo $x$ distinto de los nodos $x_i$. Ahora, utilizando que $\\sum _{i=0}^n L_i(x) = 1$ para todo $x \\in \\mathbb{R}$, tenemos\n",
    "\n",
    "$$p(x) = \\frac{\\sum _{i=0}^n y_i \\frac{\\lambda _i^n}{x - x_i}w_n(x)}{\\sum _{i=0}^n \\frac{\\lambda _i^n}{x - x_i}w_n(x)} = \\frac{\\sum _{i=0}^n y_i \\frac{\\lambda _i^n}{x - x_i}}{\\sum _{i=0}^n \\frac{\\lambda _i^n}{x - x_i}} \\quad \\quad (\\textcolor{red}{1})$$\n",
    "\n",
    "que es la fórmula fórmula baricéntrica buscada (se denomina así de forma un poco abusiva, porque es una combinación lineal de los valores $y_i$ con coeficientes que suman 1, aunque no es una combinación convexa porque dichos coeficientes pueden ser negativos).\n",
    "\n",
    "El objetivo del ejercicio es implementar esta forma de evaluación y compararla con las otras dos foramas de las que ya disponemos.\n",
    "\n",
    "Para implementar esta forma de cálculo vamos a escribir un algoritmo eficiente (merece una reflexión para convencerse de que lleva a cabo el proceso requerido). Observemos que para $k \\geq 1$ se tiene:\n",
    "\n",
    "$$\\lambda _i^k = \\frac{\\lambda _i ^{k-1}} {x_i - x_k}, \\quad i= 0, 1,..., k-1$$\n",
    "\n",
    "entonces el algoritmo consiste en la construcción de la siguiente matriz triangular $(\\lambda _i^k), i = 0,...,k-1; k=0,1,...,n$ construida de la forma siguiente:\n",
    "\n",
    "* $\\lambda _0^0 = 1$.\n",
    "\n",
    "* Para $k = 1, 2,...,n$,\n",
    "\n",
    "$$\\lambda _i^k = \\frac{\\lambda _i ^{k-1}} {x_i - x_k}, \\quad i= 0, 1,..., k-1$$\n",
    "\n",
    "$$\\lambda _k^k = \\frac {1}{\\prod _{j=0}^{k-1}(x_k -x_j)}$$\n",
    "\n",
    "Observa que los $\\lambda _i^k$ para $i=0,...,k-1$ se calculan de forma recurrente, mientras que los $\\lambda _k^k$ se calculan directamente.\n",
    "\n",
    "Una vez calculados los $\\lambda _i^n$ (los elementos de la última columna de la matriz) ya se puede proceder a la evaluación de la expresión de la derecha en la formula (<span style=\"color: red;\">1</span>).\n",
    "\n",
    "Observa que: el número de operaciones total es similar al necesario para evaluar el polinomio interpolador en la forma de Newton y, además, este procedimiento permite añadir un nodo más al proceso de interpolación sin necesidad de recalcular todo, basta añadir una columna a la matriz $\\lambda _i^k$ (concretamente\n",
    "calcular $\\lambda _0 ^{n+1} ,..., \\lambda _{n+1}^{n+1}$) y recalcular parte de la expresión en (<span style=\"color: red;\">1</span>).\n",
    "\n",
    "### Apartado a)\n",
    "\n",
    "Crea en la carpeta **/Biblioteca** una función denominada **polyLagrange_eval(x,y,s)** que reciba como variables: el vector de nodos (**x**), el vector de ordenadas (**y**), y el vector de puntos donde\n",
    "se evaluará el polinomio (**s**). La función debe devolver el vector de evaluaciones del polinomio en las componentes de **s** utilizando el algoritmo anterior. ***Importante: lee la Nota al final del ejercicio.***\n",
    "\n",
    "---\n",
    "\n",
    "> ***Nota*** : La forma baricéntrica no tiene sentido al evaluar el polinomio en un punto $x$ igual a alguno de los nodos, es decir, si $x = x_i$ para algún $i \\in \\{ 0, . . . , n \\}$, pues en la fórmula se debe dividir por $x − x_i$. Si no se toma ninguna precaución es posible que los gráficos tengan algún hueco, pues si alguna componente de **s** coincide con alguna componente de $x$ el valor calculado en esa componente será *NaN* (o quizás *Inf*). Esto no es un problema para la gráfica, pues en esos valores no se dibuja (lo que puede dar huecos muy pequeños si s es una malla suficientemente fina). Quizás sí podría afectar al cálculo de los máximos de las diferencias (si el valor en algún punto es *Inf* ). \n",
    ">\n",
    "> Puesto que en los nodos sabemos el valor del polinomio interpolador, se le podría asignar este valor en la componente adecuada de **s**, en caso de coincidir... el problema es que entonces deberíamos hacer una gran cantidad de condicionales *if*... (para comprobar si alguna componente de s coincide con algún nodo), a no ser que abordemos este problema de forma vectorial, utilizando la estrategia de la indexación booleana de Octave (recuerda los comentarios al respecto en la práctica 2). Pero esto entraña una cierta dificutad. ***Es totalmente voluntario implementar el código necesario para evitar esta indefinición*** en el caso citado de coincidencia en las abscisas. En cualquier caso, una forma de evitar las coincidencias (salvo en los extremos del intervalo, $0$ y $2\\pi$) es hacer una malla de un número de puntos que sea coprimo con el número de nodos."
   ]
  },
  {
   "cell_type": "code",
   "execution_count": 43,
   "metadata": {},
   "outputs": [
    {
     "data": {
      "image/png": "[encoded data removed]",
      "text/plain": [
       "<IPython.core.display.Image object>"
      ]
     },
     "metadata": {},
     "output_type": "display_data"
    }
   ],
   "source": [
    "%% /Biblioteca/polyLagrange_eval.m\n",
    "\n",
    "clear all\n",
    "\n",
    "function ret = polyLagrange_eval(x, y, s)\n",
    "\n",
    "    n = length(x);\n",
    "    \n",
    "    % Matriz\n",
    "    lambda = zeros(n, n);\n",
    "    for i=1:n\n",
    "        for j=1:n\n",
    "            if i > j\n",
    "                lambda(i, j) = 0;\n",
    "            elseif i == j\n",
    "\n",
    "                if i == 1\n",
    "                    lambda(i,j) = 1;\n",
    "                endif\n",
    "                if i != 1\n",
    "                    producto = 1;\n",
    "                    for k=1:i-1\n",
    "                        producto = producto * (1 / (x(i) - x(k)));\n",
    "                    endfor\n",
    "                    lambda(i,j) = producto;\n",
    "                endif\n",
    "\n",
    "            else\n",
    "                lambda(i,j) = lambda(i, j-1) / (x(i) - x(j));\n",
    "            endif\n",
    "        endfor\n",
    "    endfor\n",
    "\n",
    "    for i=1:length(s)\n",
    "        dividendo = 0;\n",
    "        divisor = 0;\n",
    "        for j=1:n\n",
    "            dividendo = dividendo + (y(j) * (lambda(j, n) / (s(i) - x(j))));\n",
    "            divisor = divisor + (lambda(j, n) / (s(i) - x(j)));\n",
    "        endfor\n",
    "\n",
    "        eva(i) = dividendo / divisor;\n",
    "\n",
    "    endfor\n",
    "\n",
    "    ret = eva;\n",
    "\n",
    "endfunction\n",
    "\n",
    "x = linspace(1, 10, 10);\n",
    "y = x.^2;\n",
    "interval = linspace(0, 10, 500);\n",
    "evaluacion = polyLagrange_eval(x, y, interval);\n",
    "plot(interval, evaluacion)"
   ]
  }
 ],
 "metadata": {
  "kernelspec": {
   "display_name": "Octave",
   "language": "octave",
   "name": "octave"
  },
  "language_info": {
   "file_extension": ".m",
   "help_links": [
    {
     "text": "GNU Octave",
     "url": "https://www.gnu.org/software/octave/support.html"
    },
    {
     "text": "Octave Kernel",
     "url": "https://github.com/Calysto/octave_kernel"
    },
    {
     "text": "MetaKernel Magics",
     "url": "https://metakernel.readthedocs.io/en/latest/source/README.html"
    }
   ],
   "mimetype": "text/x-octave",
   "name": "octave",
   "version": "7.3.0"
  },
  "orig_nbformat": 4,
  "vscode": {
   "interpreter": {
    "hash": "84f8f593ac82e7fcc1f9d39675db8043bfb4837af79ee0bee0ee9e121e5cce95"
   }
  }
 },
 "nbformat": 4,
 "nbformat_minor": 2
}
