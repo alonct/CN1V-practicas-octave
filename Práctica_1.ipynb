{
 "cells": [
  {
   "cell_type": "markdown",
   "id": "d0d7af81",
   "metadata": {},
   "source": [
    "\n",
    "# Práctica 1"
   ]
  },
  {
   "cell_type": "code",
   "execution_count": 2,
   "id": "2d4e1318",
   "metadata": {},
   "outputs": [],
   "source": [
    "addpath('./Biblioteca')\n",
    "global ndig = 4"
   ]
  },
  {
   "cell_type": "markdown",
   "id": "fb0dd5fb",
   "metadata": {},
   "source": [
    "## Ejercicio 1:\n",
    "En la carpeta /Biblioteca se ha incluido la función redondeo.m. Dado un valor numérico x, de\n",
    "cualquier tipo (incluso matricial), y un entero numdig, redondeo(x,numdig) devuelve el valor de\n",
    "x redondeado al número de cifras decimales indicado por la variable numdig. Estudia el código de\n",
    "esta función teniendo en cuenta para ello que:\n",
    "\n",
    "1. mat2str(x,n) convierte el valor de x en una cadena de caracteres, redondeando x a n dígitos\n",
    "de precisión.\n",
    "\n",
    "2. eval(cad) ejecuta la cadena cad como si fuera código de Octave. El resultado en la función\n",
    "redondeo.m es un valor numérico (o matricial) en coma flotante.\n",
    "\n",
    "3. El argumento “local” en la función output_precision permite que el efecto de esta función\n",
    "deje de estar activo al terminar la ejecución de la misma o de otro script que pueda utilizarla.\n",
    "\n",
    "Crea un archivo script en el que se calculen los resultados de las operaciones que siguen con cuatro\n",
    "cifras decimales (redondeo el que utiliza Octave por defecto):\n",
    "\n",
    "\n",
    "a) 0.6688 $ \\oplus $ 0.3334;\n",
    "\n",
    "b) 1000 $ \\ominus $ 0.05001;\n",
    "\n",
    "c) 2.000 $\\otimes$ 0.6667;\n",
    "\n",
    "d ) 25.00 $\\oslash$ 16.00\n",
    "\n",
    "Calcula en cada caso los errores absolutos y relativos.\n",
    "\n",
    "A la vista de los resultados (o de otros intentos que puedas hacer, por ejemplo, directamente en la\n",
    "ventana de comandos), ¿puedes deducir qué tipo de redondeo utiliza Octave?"
   ]
  },
  {
   "cell_type": "markdown",
   "id": "a9b1eeca",
   "metadata": {},
   "source": [
    "### Solución"
   ]
  },
  {
   "cell_type": "code",
   "execution_count": 3,
   "id": "4e7d1017",
   "metadata": {},
   "outputs": [
    {
     "name": "stdout",
     "output_type": "stream",
     "text": [
      "a_1 = 0.6688\n",
      "a_2 = 0.3334\n",
      "ra_1 =           0.6688\n",
      "ra_2 =           0.3334\n",
      "suma =           1.0022\n",
      "rsuma =            1.002\n",
      "          1.0022\n",
      "          1.0022\n"
     ]
    }
   ],
   "source": [
    "a_1 = 0.6688\n",
    "a_2 = 0.3334\n",
    "ra_1 = redondeo(a_1, ndig)\n",
    "ra_2 = redondeo(a_2, ndig)\n",
    "\n",
    "suma = ra_1 + ra_2\n",
    "rsuma = redondeo(suma, ndig)\n",
    "disp(suma)\n",
    "disp(a_1 +a_2)"
   ]
  },
  {
   "cell_type": "markdown",
   "id": "798b7310",
   "metadata": {},
   "source": [
    "En este caso podemos, un simple cálculo a mano nos mostrará que el valor redondeado no difiere del exacto, por tanto el error absoluto y relativo serán 0."
   ]
  },
  {
   "cell_type": "code",
   "execution_count": 3,
   "id": "0d1ba329",
   "metadata": {},
   "outputs": [
    {
     "name": "stdout",
     "output_type": "stream",
     "text": [
      "b_1 =             1000\n",
      "b_2 =          0.05001\n",
      "redondeo_resta =            999.9\n",
      "valor_real_resta =        999.94999\n",
      "error_absoluto = 0.04998999999997977\n",
      "error_relativo = 4.999250012491102e-05\n"
     ]
    }
   ],
   "source": [
    "b_1 = 1000\n",
    "b_2 = 0.05001\n",
    "redondeo_resta = redondeo(redondeo(b_1,ndig) - redondeo(b_2, ndig),ndig)\n",
    "valor_real_resta = b_1 - b_2\n",
    "error_absoluto = abs(valor_real_resta - redondeo_resta)\n",
    "error_relativo = error_absoluto/valor_real_resta"
   ]
  },
  {
   "cell_type": "markdown",
   "id": "4ae7fb24",
   "metadata": {},
   "source": [
    "En este caso el valor real de la resta es 999.94999, por tanto podemos calcular fácilmente tanto el error absoluto como el error relativo."
   ]
  },
  {
   "cell_type": "code",
   "execution_count": 4,
   "id": "a947ff14",
   "metadata": {},
   "outputs": [
    {
     "name": "stdout",
     "output_type": "stream",
     "text": [
      "c_1 =                2\n",
      "c_2 =           0.6667\n",
      "mult_real =           1.3334\n",
      "redondeo_mult =            1.333\n",
      "c_error_absoluto = 0.0003999999999999559\n",
      "c_error_relativo = 0.0002999850007499625\n"
     ]
    }
   ],
   "source": [
    "c_1 = 2.000\n",
    "c_2 = 0.6667\n",
    "mult_real = c_1 * c_2\n",
    "redondeo_mult = redondeo(redondeo(c_1, ndig) * redondeo(c_2, ndig),ndig)\n",
    "c_error_absoluto = abs(redondeo_mult - mult_real)\n",
    "c_error_relativo = 0.0004/mult_real"
   ]
  },
  {
   "cell_type": "markdown",
   "id": "86197d58",
   "metadata": {},
   "source": [
    "Aquí podemos observar que al calcular el error absoluto da lugar a un error en la resta, pues en lugar de 0.0004 que debiera ser el valor correcto la forma en que calcula el valor Octave lo lleva a una aproximación que no es correcta."
   ]
  },
  {
   "cell_type": "code",
   "execution_count": 5,
   "id": "d7a23a91",
   "metadata": {},
   "outputs": [
    {
     "name": "stdout",
     "output_type": "stream",
     "text": [
      "d_1 =               25\n",
      "d_2 =               16\n",
      "div_real =           1.5625\n",
      "red_div =            1.562\n",
      "d_er_abs = 0.0004999999999999449\n",
      "d_er_rel = 0.0003199999999999647\n"
     ]
    }
   ],
   "source": [
    "d_1 = 25.00\n",
    "d_2 = 16.00\n",
    "div_real = 25/16\n",
    "red_div = redondeo(redondeo(d_1, ndig)/redondeo(d_2, ndig), ndig)\n",
    "d_er_abs = abs(div_real - red_div)\n",
    "d_er_rel = d_er_abs/div_real"
   ]
  },
  {
   "cell_type": "markdown",
   "id": "d4e1579f",
   "metadata": {},
   "source": [
    "## Ejercicio 2:"
   ]
  },
  {
   "cell_type": "markdown",
   "id": "a26519de",
   "metadata": {},
   "source": [
    "Consideremos la ecuación de segundo grado\n",
    "\n",
    "$$1.002x^{2} -11.01x + 0.01265 = 0$$\n",
    "\n",
    "Trabajando con la función redondeo, calcula las soluciones de la ecuación realizando todos los\n",
    "cálculos con cuatro cifras significativas de las dos formas detalladas a continuación. Para una\n",
    "ecuación $ax^2 + bx + c = 0$ las raíces se pueden calcular:\n",
    "1. mediante las expresiones bien conocidas $\\frac{-b\\pm\\sqrt{b^2 -4ac}}{2a}$, y\n",
    "2. calculando una raíz $x_1$ de forma que se evite la pérdida de cifras significativas y teniendo en cuenta entoces que las raíces verifican $x_1 x_2 = \\frac{c}{a}$.\n",
    "\n",
    "Para hacernos una idea de la precisión de ambos cálculos vamos a reconstruir el polinomio original\n",
    "utilizando las dos funciones siguientes.\n",
    "\n",
    "* La función **poly[x1,x2,...,xn]** de Octave devuelve un vector compuesto por los coeficientes del polinomio cuyas raíces son x1,x2,...,xn; los coeficientes están ordenados de forma\n",
    "decreciente, es decir, desde el coeficiente del término de mayor grado, hasta el término independiente.\n",
    "* La función **polyout(v,’x’)** de Octave, devuelve una cadena igual a la expresión del polinomio en la variable x que tiene los coeficientes incluidos en el vector v.\n",
    "\n",
    "Realiza los mismos cálculos con 2 y 8 cifras significativas.\n"
   ]
  },
  {
   "cell_type": "markdown",
   "id": "63d143f6",
   "metadata": {},
   "source": [
    "### Solución"
   ]
  },
  {
   "cell_type": "markdown",
   "id": "d25e52f3",
   "metadata": {},
   "source": [
    "* Con cuatro cifras significativas"
   ]
  },
  {
   "cell_type": "code",
   "execution_count": 6,
   "id": "965745b0",
   "metadata": {},
   "outputs": [
    {
     "name": "stdout",
     "output_type": "stream",
     "text": [
      "a =            1.002\n",
      "b =           -11.01\n",
      "c =          0.01265\n",
      "x1 =            10.98\n",
      "x2 =          0.00499\n",
      "x2_2 =           0.1386\n"
     ]
    }
   ],
   "source": [
    "a = 1.002\n",
    "b = -11.01\n",
    "c = 0.01265\n",
    "x1 = redondeo(redondeo(-b + redondeo(sqrt(redondeo(redondeo(b^2, ndig) - redondeo(4*a*c, ndig), ndig)), ndig), ndig)/redondeo(2*a, ndig),ndig)\n",
    "x2 = redondeo(redondeo(-b - redondeo(sqrt(redondeo(redondeo(b^2, ndig) - redondeo(4*a*c, ndig), ndig)), ndig), ndig)/redondeo(2*a, ndig),ndig)\n",
    "x2_2 = redondeo(redondeo(c/a, ndig) * x1,ndig)"
   ]
  },
  {
   "cell_type": "markdown",
   "id": "54be1bda",
   "metadata": {},
   "source": [
    "Procedamos ahora a la reconstrucción inversa a partir de las raíces."
   ]
  },
  {
   "cell_type": "code",
   "execution_count": 7,
   "id": "19af1a56",
   "metadata": {},
   "outputs": [
    {
     "name": "stdout",
     "output_type": "stream",
     "text": [
      "coef1 =\n",
      "\n",
      "                       1               -10.98499               0.0547902\n",
      "\n",
      "expr1 = 1*x^2 - 10.985*x^1 + 0.05479\n"
     ]
    }
   ],
   "source": [
    "coef1 = poly([x1,x2])\n",
    "expr1 = polyout(coef1, 'x')"
   ]
  },
  {
   "cell_type": "markdown",
   "id": "b532e6e2",
   "metadata": {},
   "source": [
    "$$1*x^2 - 10.985*x^1 + 0.05479$$"
   ]
  },
  {
   "cell_type": "code",
   "execution_count": 8,
   "id": "937f3c26",
   "metadata": {},
   "outputs": [
    {
     "name": "stdout",
     "output_type": "stream",
     "text": [
      "coef2 =\n",
      "\n",
      "                       1                -11.1186                1.521828\n",
      "\n",
      "expr2 = 1*x^2 - 11.119*x^1 + 1.5218\n"
     ]
    }
   ],
   "source": [
    "coef2 = poly([x1,x2_2])\n",
    "expr2 = polyout(coef2, 'x')"
   ]
  },
  {
   "cell_type": "markdown",
   "id": "d555f87d",
   "metadata": {},
   "source": [
    "$$1*x^2 - 11.119*x^1 + 1.5218$$"
   ]
  },
  {
   "cell_type": "markdown",
   "id": "d924548c",
   "metadata": {},
   "source": [
    "* Con dos cifras significativas"
   ]
  },
  {
   "cell_type": "code",
   "execution_count": 9,
   "id": "fa80c5bb",
   "metadata": {},
   "outputs": [
    {
     "name": "stdout",
     "output_type": "stream",
     "text": [
      "a =            1.002\n",
      "b =           -11.01\n",
      "c =          0.01265\n",
      "x1 =            10.98\n",
      "x2 =          0.00499\n",
      "x2_2 =           0.1386\n"
     ]
    }
   ],
   "source": [
    "global ndig = 2\n",
    "a = 1.002\n",
    "b = -11.01\n",
    "c = 0.01265\n",
    "x1 = redondeo(redondeo(-b + redondeo(sqrt(redondeo(redondeo(b^2, ndig) - redondeo(4*a*c, ndig), ndig)), ndig), ndig)/redondeo(2*a, ndig),ndig)\n",
    "x2 = redondeo(redondeo(-b - redondeo(sqrt(redondeo(redondeo(b^2, ndig) - redondeo(4*a*c, ndig), ndig)), ndig), ndig)/redondeo(2*a, ndig),ndig)\n",
    "x2_2 = redondeo(redondeo(c/a, ndig) * x1,ndig)"
   ]
  },
  {
   "cell_type": "code",
   "execution_count": 10,
   "id": "5b64a7b9",
   "metadata": {},
   "outputs": [
    {
     "name": "stdout",
     "output_type": "stream",
     "text": [
      "coef1 =\n",
      "\n",
      "                       1               -10.98499               0.0547902\n",
      "\n",
      "expr1 = 1*x^2 - 10.985*x^1 + 0.05479\n"
     ]
    }
   ],
   "source": [
    "coef1 = poly([x1,x2])\n",
    "expr1 = polyout(coef1, 'x')"
   ]
  },
  {
   "cell_type": "markdown",
   "id": "22205026",
   "metadata": {},
   "source": [
    "$$1*x^2 - 10.985*x^1 + 0.05479$$"
   ]
  },
  {
   "cell_type": "code",
   "execution_count": 11,
   "id": "8d642826",
   "metadata": {},
   "outputs": [
    {
     "name": "stdout",
     "output_type": "stream",
     "text": [
      "coef2 =\n",
      "\n",
      "                       1                -11.1186                1.521828\n",
      "\n",
      "expr2 = 1*x^2 - 11.119*x^1 + 1.5218\n"
     ]
    }
   ],
   "source": [
    "coef2 = poly([x1,x2_2])\n",
    "expr2 = polyout(coef2, 'x')"
   ]
  },
  {
   "cell_type": "markdown",
   "id": "46494f8b",
   "metadata": {},
   "source": [
    "$$1*x^2 - 11.119*x^1 + 1.5218$$"
   ]
  },
  {
   "cell_type": "markdown",
   "id": "d0733217",
   "metadata": {},
   "source": [
    "* Con 8 cifras significativas"
   ]
  },
  {
   "cell_type": "code",
   "execution_count": 12,
   "id": "632d8fdc",
   "metadata": {},
   "outputs": [
    {
     "name": "stdout",
     "output_type": "stream",
     "text": [
      "a =            1.002\n",
      "b =           -11.01\n",
      "c =          0.01265\n",
      "x1 =            10.98\n",
      "x2 =          0.00499\n",
      "x2_2 =           0.1386\n"
     ]
    }
   ],
   "source": [
    "global ndig = 8\n",
    "\n",
    "a = 1.002\n",
    "b = -11.01\n",
    "c = 0.01265\n",
    "x1 = redondeo(redondeo(-b + redondeo(sqrt(redondeo(redondeo(b^2, ndig) - redondeo(4*a*c, ndig), ndig)), ndig), ndig)/redondeo(2*a, ndig),ndig)\n",
    "x2 = redondeo(redondeo(-b - redondeo(sqrt(redondeo(redondeo(b^2, ndig) - redondeo(4*a*c, ndig), ndig)), ndig), ndig)/redondeo(2*a, ndig),ndig)\n",
    "x2_2 = redondeo(redondeo(c/a, ndig) * x1,ndig)"
   ]
  },
  {
   "cell_type": "code",
   "execution_count": 13,
   "id": "43e3a1b2",
   "metadata": {},
   "outputs": [
    {
     "name": "stdout",
     "output_type": "stream",
     "text": [
      "coef1 =\n",
      "\n",
      "                       1               -10.98499               0.0547902\n",
      "\n",
      "expr1 = 1*x^2 - 10.985*x^1 + 0.05479\n"
     ]
    }
   ],
   "source": [
    "coef1 = poly([x1,x2])\n",
    "expr1 = polyout(coef1, 'x')"
   ]
  },
  {
   "cell_type": "markdown",
   "id": "846258d7",
   "metadata": {},
   "source": [
    "$$1*x^2 - 10.985*x^1 + 0.05479$$"
   ]
  },
  {
   "cell_type": "code",
   "execution_count": 14,
   "id": "2c272172",
   "metadata": {},
   "outputs": [
    {
     "name": "stdout",
     "output_type": "stream",
     "text": [
      "coef2 =\n",
      "\n",
      "                       1                -11.1186                1.521828\n",
      "\n",
      "expr2 = 1*x^2 - 11.119*x^1 + 1.5218\n"
     ]
    }
   ],
   "source": [
    "coef2 = poly([x1,x2_2])\n",
    "expr2 = polyout(coef2, 'x')"
   ]
  },
  {
   "cell_type": "markdown",
   "id": "2a733142",
   "metadata": {},
   "source": [
    "$$1*x^2 - 11.119*x^1 + 1.5218$$"
   ]
  },
  {
   "cell_type": "markdown",
   "id": "b2bc938a",
   "metadata": {},
   "source": [
    "# Ejercicio 3"
   ]
  },
  {
   "cell_type": "markdown",
   "id": "baececf8",
   "metadata": {},
   "source": [
    "De acuerdo con el ejercicio 1.27 (con las precauciones sugeridas por el apartado c) del mismo\n",
    "ejercicio) parece que será más preciso realizar una suma de términos positivos de forma que el\n",
    "tamaño de los sumandos sea creciente. Vamos a realizar la experiencia con una suma bien conocida:\n",
    "\n",
    "$$\\sum_{k = 1}^{\\infty} \\frac{1}{k^2} = \\frac {\\pi^2}{6}$$\n",
    "\n",
    "El Objetivo es calcular las sumas\n",
    "\n",
    "$$\\sum_{k = 1}^{n} \\frac{1}{k^2}$$\n",
    "\n",
    "para distintos valores de n en orden creciente y decreciente y comparar los resultados.\n",
    "\n",
    "Al final del enunciado de este ejercicio se incluyen detalles sobre las órdenes de Octave necesarias\n",
    "para desarrollar el ejercicio.\n",
    "\n",
    "1. Calcula, en **precisión simple**, la suma en orden creciente y decreciente de sumandos para n\n",
    "igual a 50, 100, 500, 1000, 10000, 100000. Haz una tabla con los valores de n, los dos valores\n",
    "de la suma y los respectivos errores relativos (usando el valor exacto $\\pi^2/6$).\n",
    "\n",
    "2. Haz lo mismo en precisión doble.\n",
    "\n",
    "3. Repite el resultado utilizando la función redondeo con cinco cifras decimales (evita en principio\n",
    "el caso n = 100000 en este apartado, porque es muy lento).\n",
    "\n",
    "4. Una vez hayas depurado todos los apartados anteriores introduce los comandos tic y toc que\n",
    "permiten controlar el tiempo de ejecución: tic inicia el cronómetro, toc lo detiene. Puedes\n",
    "asignar el valor de toc a una variable (por ejemplo, t=toc), y así mostrar el tiempo de ejecución\n",
    "de un proceso en el formato que desees."
   ]
  },
  {
   "cell_type": "markdown",
   "id": "8cc89085",
   "metadata": {},
   "source": [
    "#### Observaciones"
   ]
  },
  {
   "cell_type": "markdown",
   "id": "09513050",
   "metadata": {},
   "source": [
    "   - Para realizar un cálculo en precisión simple basta escribir single(calculo ). Incluso puedes escribir single(a) siendo a un valor fijo o una variable numérica. Para realizar los cálculos en precisión doble no hay que tomar ninguna precaución, Octave los hace con esta precisión por defecto.\n",
    "\n",
    "   - Los bucles en Octave los puedes escribir de varias formas.\n",
    "    \n",
    "   - Una idea para obtener tablas en la salida de Octave es utilizar especificaciones de formato en la orden de escritura. Por ejemplo: printf(form,x1,x2,x3) escribirá las variables x1, x2 y x3 con el formato indicado por la especificación form, que es una cadena o una variable de tipo cadena que debemos haber definido previamente. Por ejemplo, podríamos definir (o utilizar la cadena siguiente directamente en printf): form=’ %12.7e, %16.8f, %6u’; lo que significa que: la primera variable se imprimirá ocupando el ancho de 12 caracteres con 7 cifras decimales en notación exponencial, la segunda ocupará el ancho de 16 caracteres con 8 decimales y la tercera será un entero sin signo (de «unsigned») ocupando el ancho de 6 caracteres.\n",
    "\n"
   ]
  },
  {
   "cell_type": "markdown",
   "id": "9182f2e9",
   "metadata": {},
   "source": [
    "### Solución"
   ]
  },
  {
   "cell_type": "code",
   "execution_count": 15,
   "id": "836cfd37",
   "metadata": {},
   "outputs": [],
   "source": [
    "nvalues = [50, 100, 500, 1000, 10000];"
   ]
  },
  {
   "cell_type": "markdown",
   "id": "8e5cb1af",
   "metadata": {},
   "source": [
    "* Precisión simple"
   ]
  },
  {
   "cell_type": "code",
   "execution_count": 22,
   "id": "a727024f",
   "metadata": {},
   "outputs": [
    {
     "name": "stdout",
     "output_type": "stream",
     "text": [
      "temp = 1.352609872817993\n",
      "matriz_single =\n",
      "\n",
      " Columns 1 through 3:\n",
      "\n",
      "                      50                       1     0.02527386991952067\n",
      "                     100                    1.25     0.03853678184384528\n",
      "                     500       1.361111164093018     0.04443141217654478\n",
      "                    1000       1.423611164093018     0.04774714015762593\n",
      "                   10000       1.463611125946045      0.0498692040417581\n",
      "\n",
      " Columns 4 and 5:\n",
      "\n",
      "   0.0004164931306149811     0.02775568213094405\n",
      "   0.0002061536943074316     0.02776684098461588\n",
      "   1.209667607326992e-05     0.02777713602918043\n",
      "   4.020090273115784e-06     0.02777756450536489\n",
      "   5.003001746217706e-08     0.02777777512360291\n",
      "\n"
     ]
    }
   ],
   "source": [
    "tic\n",
    "for i = 1:columns(nvalues),\n",
    "    suma_crec(i) = 0;\n",
    "    suma_decrec(i) = 0;\n",
    "    for j = 1:i,\n",
    "        single(suma_crec(i) += single(1/(j^2)));\n",
    "        single(suma_decrec(i) += single(1/((nvalues(1,i)-j)^2)));\n",
    "    endfor\n",
    "    errorr_c(i) = abs(suma_crec(i)-pi/6)/pi/6;\n",
    "    errorr_d(i) = abs(suma_decrec(i)-pi/6)/pi/6;\n",
    "    matriz_single(i, :) = [nvalues(1,i), suma_crec(i), errorr_c(i), suma_decrec(i), errorr_d(i)];\n",
    "endfor\n",
    "temp = toc %tiempo de ejecución\n",
    "\n",
    "display(matriz_single)"
   ]
  },
  {
   "cell_type": "markdown",
   "id": "7c3098d9",
   "metadata": {},
   "source": [
    "* Precisión doble"
   ]
  },
  {
   "cell_type": "code",
   "execution_count": 23,
   "id": "c7f9f4aa",
   "metadata": {},
   "outputs": [
    {
     "name": "stdout",
     "output_type": "stream",
     "text": [
      "temp = 1.332026958465576\n",
      "matriz_double =\n",
      "\n",
      " Columns 1 through 3:\n",
      "\n",
      "                      50                       1     0.02527386991952067\n",
      "                     100                    1.25     0.03853678184384528\n",
      "                     500       1.361111111111111     0.04443140936576734\n",
      "                    1000       1.423611111111111     0.04774713734684849\n",
      "                   10000       1.463611111111111     0.04986920325474042\n",
      "\n",
      " Columns 4 and 5:\n",
      "\n",
      "   0.0004164931278633903     0.02775568213109002\n",
      "   0.0002061536870265556     0.02776684098500214\n",
      "    1.20966766395734e-05     0.02777713602915038\n",
      "   4.020090401777835e-06     0.02777756450535807\n",
      "    5.00300165090049e-08     0.02777777512360297\n",
      "\n"
     ]
    }
   ],
   "source": [
    "matriz_double = zeros(3,5);\n",
    "tic\n",
    "for i = 1:columns(nvalues),\n",
    "    suma_crec(i) = 0;\n",
    "    suma_decrec(i) = 0;\n",
    "    for j = 1:i,\n",
    "        double(suma_crec(i) += double(1/(j^2)));\n",
    "        double(suma_decrec(i) += double(1/((nvalues(1,i)-j)^2)));\n",
    "        errorr_c(i) = abs(suma_crec(i)-pi/6)/pi/6;\n",
    "        errorr_d(i) = abs(suma_decrec(i)-pi/6)/pi/6;\n",
    "    endfor\n",
    "    matriz_double(i, :) = [nvalues(1,i), suma_crec(i), errorr_c(i), suma_decrec(i), errorr_d(i)];\n",
    "endfor\n",
    "temp = toc %tiempo\n",
    "\n",
    "matriz_double"
   ]
  },
  {
   "cell_type": "code",
   "execution_count": null,
   "id": "4ae80d8e",
   "metadata": {},
   "outputs": [],
   "source": []
  }
 ],
 "metadata": {
  "kernelspec": {
   "display_name": "Octave",
   "language": "octave",
   "name": "octave"
  },
  "language_info": {
   "file_extension": ".m",
   "help_links": [
    {
     "text": "GNU Octave",
     "url": "https://www.gnu.org/software/octave/support.html"
    },
    {
     "text": "Octave Kernel",
     "url": "https://github.com/Calysto/octave_kernel"
    },
    {
     "text": "MetaKernel Magics",
     "url": "https://metakernel.readthedocs.io/en/latest/source/README.html"
    }
   ],
   "mimetype": "text/x-octave",
   "name": "octave",
   "version": "7.3.0"
  },
  "vscode": {
   "interpreter": {
    "hash": "84f8f593ac82e7fcc1f9d39675db8043bfb4837af79ee0bee0ee9e121e5cce95"
   }
  }
 },
 "nbformat": 4,
 "nbformat_minor": 5
}
