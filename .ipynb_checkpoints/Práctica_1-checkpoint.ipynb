{
 "cells": [
  {
   "cell_type": "markdown",
   "id": "d0d7af81",
   "metadata": {},
   "source": [
    "\n",
    "# Práctica 1"
   ]
  },
  {
   "cell_type": "code",
   "execution_count": null,
   "id": "2d4e1318",
   "metadata": {},
   "outputs": [],
   "source": [
    "addpath('./Biblioteca')\n",
    "global ndig = 4"
   ]
  },
  {
   "cell_type": "markdown",
   "id": "fb0dd5fb",
   "metadata": {},
   "source": [
    "## Ejercicio 1:\n",
    "En la carpeta /Biblioteca se ha incluido la función redondeo.m. Dado un valor numérico x, de\n",
    "cualquier tipo (incluso matricial), y un entero numdig, redondeo(x,numdig) devuelve el valor de\n",
    "x redondeado al número de cifras decimales indicado por la variable numdig. Estudia el código de\n",
    "esta función teniendo en cuenta para ello que:\n",
    "\n",
    "1. mat2str(x,n) convierte el valor de x en una cadena de caracteres, redondeando x a n dígitos\n",
    "de precisión.\n",
    "\n",
    "2. eval(cad) ejecuta la cadena cad como si fuera código de Octave. El resultado en la función\n",
    "redondeo.m es un valor numérico (o matricial) en coma flotante.\n",
    "\n",
    "3. El argumento “local” en la función output_precision permite que el efecto de esta función\n",
    "deje de estar activo al terminar la ejecución de la misma o de otro script que pueda utilizarla.\n",
    "\n",
    "Crea un archivo script en el que se calculen los resultados de las operaciones que siguen con cuatro\n",
    "cifras decimales (redondeo el que utiliza Octave por defecto):\n",
    "\n",
    "\n",
    "a) 0.6688 $ \\oplus $ 0.3334;\n",
    "\n",
    "b) 1000 $ \\ominus $ 0.05001;\n",
    "\n",
    "c) 2.000 $\\otimes$ 0.6667;\n",
    "\n",
    "d ) 25.00 $\\oslash$ 16.00\n",
    "\n",
    "Calcula en cada caso los errores absolutos y relativos.\n",
    "\n",
    "A la vista de los resultados (o de otros intentos que puedas hacer, por ejemplo, directamente en la\n",
    "ventana de comandos), ¿puedes deducir qué tipo de redondeo utiliza Octave?"
   ]
  },
  {
   "cell_type": "code",
   "execution_count": null,
   "id": "4e7d1017",
   "metadata": {},
   "outputs": [],
   "source": [
    "a_1 = 0.6688\n",
    "a_2 = 0.3334\n",
    "ra_1 = redondeo(a_1, ndig)\n",
    "ra_2 = redondeo(a_2, ndig)\n",
    "\n",
    "suma = ra_1 + ra_2\n",
    "rsuma = redondeo(suma, ndig)\n",
    "printf(suma)"
   ]
  },
  {
   "cell_type": "code",
   "execution_count": null,
   "id": "3f7062bb",
   "metadata": {},
   "outputs": [],
   "source": []
  }
 ],
 "metadata": {
  "kernelspec": {
   "display_name": "Octave",
   "language": "octave",
   "name": "octave"
  },
  "language_info": {
   "name": "octave",
   "version": "3.9.7"
  },
  "vscode": {
   "interpreter": {
    "hash": "c5e1398cdbc5000f70d27840b9ea3342abf7ef0093b1dcda8062c3b12392418e"
   }
  }
 },
 "nbformat": 4,
 "nbformat_minor": 5
}
