{
 "cells": [
  {
   "cell_type": "markdown",
   "metadata": {},
   "source": [
    "# Práctica 5"
   ]
  },
  {
   "cell_type": "code",
   "execution_count": null,
   "metadata": {},
   "outputs": [],
   "source": [
    "clear all\n",
    "addpath('./Biblioteca')\n",
    "graphics_toolkit (\"gnuplot\"); %% Comando solo para jupyter notebooks"
   ]
  },
  {
   "cell_type": "markdown",
   "metadata": {},
   "source": [
    "Para realizar esta práctica necesitas descargar algunos script de Octave que he subido al Aula Virtual. Si no lo has hecho ya, descarga el archivo **Practica5Anadir_Biblioteca.zip**, situado en la carpeta CodigoPracticas de los Recursos del AV. Descomprímelo y guarda su contenido en la carpeta\n",
    "Biblioteca que debe estar contenida en tu carpeta de trabajo con Octave de tu ordenador personal.\n",
    "\n",
    "El objetivo general de esta práctica es experimentar en la aproximación de derivadas e integrales, en\n",
    "casos sencillos. Para ello, en Biblioteca dispones de las funciones siguientes:\n",
    "\n",
    "* **aproxDeriv3(f,x,h,pos)** devuelve la aproximación de la derivada de una función en un punto mediante el método de evaluación en tres puntos, es decir, mediante el método de interpolación en tres puntos (véase la página 83 de las notas de clase). Requiere cuatro argumentos: la función $f$ a\n",
    "derivar, el punto x donde aproximar $f'(x)$, el paso _h_ que determina los puntos donde interpolar y, finalmente una cadena de caracteres **pos**: si **pos='i'** se aproxima la derivada evaluando en x, x + _h_ y x + 2 _h_; si **pos='d'** se aproxima evaluando en x − 2 _h_, x − _h_ y x; en cualquier otro caso se utilizan las diferencias centrales (evaluando en x − _h_ y x + _h_).\n",
    "\n",
    "* **aproxDeriv3Vect(x,y)**. El vector y debe ser el vector de imágenes, es decir $y=f(x)$ (o una simple tabla de puntos, lo que permite aproximar la derivada de una función desconocida). La función devuelve la aproximación de la derivada de $f$ en los puntos del vector x. En la primera y última componentes utiliza la aproximación en tres puntos (como en la función anterior, a izquierda o derecha), en el resto de componentes utiliza la diferencia central. Las componentes de x no tiene que estar equiespaciadas (aunque si no lo están el cálculo puede no tener sentido).\n",
    "\n",
    "* **aproxSegundaDeriv3(f,x,h)** devuelve la aproximación a la derivada segunda $f''(x)$ utilizando la fórmula $(f(x − h) − 2f (x) + f(x + h))/h^2$ (x puede ser un vector, evaluando simultáneamente en sus componentes).\n",
    "\n",
    "* **trapecio(f,a,b,N)**, devuelve la aproximación a la integral de una función en un intervalo calculada mediante la regla compuesta del trapecio. Sus argumentos son: la función $f$ a integrar, los extremos del intervalo a y b donde se integra y el número de subintervalos *N* de la regla compuesta.\n",
    "\n",
    "* **trapecioVect(x,y)**, devuelve la aproximación a la integral mediante la regla del trapecio compuesta. Los argumentos son dos vectores x e y. El vector y debe ser $f(x)$ donde $f$ es la función a integrar. Los extremos de integración serán la primera y la última de las componentes de x, y se espera que estas componentes esté equiespaciadas.\n",
    "\n",
    "* **simpson(f,a,b,n)**, es lo análogo a **trapecio.m** pero para la regla compuesta de Simpson.\n",
    "\n",
    "* **simpsonVect(x,y)**, es lo análogo a **trapecioVect.m** pero para la regla compuesta de Simpson: el vector de abscisas x debe tener longitud impar y deben ser abscisas equiespaciadas.\n",
    "\n",
    "* **gaussLegendreSimple(g,nG)**, calcula una aproximación a la integral de la función $g$ en el intervalo $[−1, 1]$ mediante la regla de Gauss-Legendre en un número de puntos de Gauss dado por el segundo argumento __nG__. Los valores posibles para __nG__ son 1, 2, 3, 4, 5 o 10 (aquellos para los que he incluido\n",
    "los puntos y pesos de la regla). No es una función para utilizar directamente, en su lugar utiliza la siguiente.\n",
    "\n",
    "* **gaussLegendre(f,a,b,N,nG)**, calcula una aproximación a la integral de la función f en el intervalo de extremos a y b mediante la regla compuesta de Gauss-Legendre en _N_ subintervalos. El último argumento, **nG**, tiene el mismo significado que el último argumento de **gaussLegendreSimple.m**, que es utilizada por **gaussLegendre.m**.\n",
    "\n",
    "Antes de utilizar cualquiera de estas funciones, asegúrate de entender qué argumentos espera, su tipo y significado, así como qué salidas produce, su significado, orden y formato.\n",
    "\n",
    "## Ejercicio 1:\n",
    "\n",
    "En este ejercicio estudiamos la inestabilidad del proceso de aproximación de derivadas en un ejemplo concreto. En la sección 3.1.3 de las notas de clase ya indicábamos que para valores muy pequeños del paso _h_ el método comienza a mostrar una gran inestabilidad, debido a los errores de redondeo. Aquí vamos a experimentar con el método de aproximación de derivadas más simple:\n",
    "\n",
    "$$f'(x) \\approx \\frac{f(x+h) - f(x)}{h}\\quad\\quad(1)$$\n",
    "\n",
    "Sabemos que el error en esta aproximación es $− \\frac{f''(\\xi)}{2}h$, siendo $\\xi$ un punto entre x y x+h.\n",
    "\n",
    "El ejemplo consistirá en aproximar la derivada de la función seno en el punto x = 1.2 y tomaremos como «valor real» de esta derivada el valor que proporciona Octave para cos(1.2), que es $\\cos(1.2) = 0.362 357 754 476 674$.\n",
    "\n",
    "El mayor valor de h que utilizaremos será $10^{−1}$, por tanto acotaremos el error por $\\frac{h}{2} \\sin(1.21)$ (el\n",
    "seno es creciente en $[1.2, 1.21]$).\n",
    "\n",
    "### Apartado a)\n",
    "\n",
    "Calcula para valores de $h = 10^{−k}$, con $k = 1, 2, . . . , 20$, el cociente **(1)** (para $f(z) = sen(z)$ y $x = 1.2$) y el error absoluto respecto al valor «real». Escribe los valores de salida en forma de tabla ordenada, añadiendo una tercera columna que sea el valor de $\\frac{h}{2} \\sin(1.21)$. A la vista de los resultados ¿coincide el error esperado con el real? ¿Cómo se comporta el error real?\n",
    "\n",
    "#### Solución:"
   ]
  },
  {
   "cell_type": "code",
   "execution_count": 17,
   "metadata": {},
   "outputs": [
    {
     "name": "stdout",
     "output_type": "stream",
     "text": [
      "valor_real = 0.3624\n",
      "tabla =\n",
      "\n",
      "   0.3152   0.0472   0.0468\n",
      "   0.3577   0.0047   0.0047\n",
      "   0.3619   0.0005   0.0005\n",
      "   0.3623   0.0000   0.0000\n",
      "   0.3624   0.0000   0.0000\n",
      "   0.3624   0.0000   0.0000\n",
      "   0.3624   0.0000   0.0000\n",
      "   0.3624   0.0000   0.0000\n",
      "   0.3624   0.0000   0.0000\n",
      "   0.3624   0.0000   0.0000\n",
      "   0.3624   0.0000   0.0000\n",
      "   0.3625   0.0001   0.0000\n",
      "   0.3630   0.0007   0.0000\n",
      "   0.3664   0.0040   0.0000\n",
      "   0.4441   0.0817   0.0000\n",
      "        0   0.3624   0.0000\n",
      "        0   0.3624   0.0000\n",
      "        0   0.3624   0.0000\n",
      "        0   0.3624   0.0000\n",
      "        0   0.3624   0.0000\n",
      "\n"
     ]
    }
   ],
   "source": [
    "clear all\n",
    "\n",
    "cociente = @(h) (sin(1.2 + h) - sin(1.2)) ./ h;\n",
    "\n",
    "valor_real = 0.362357754476674; % = cos(1.2)\n",
    "\n",
    "k = linspace(1, 20, 20);\n",
    "h = 10 .^(-k);\n",
    "imagen = cociente(h);\n",
    "error_abs = abs(imagen - valor_real);\n",
    "col_3 = (h * sin(1.21)) / 2;\n",
    "tabla = [imagen' error_abs' col_3']"
   ]
  }
 ],
 "metadata": {
  "kernelspec": {
   "display_name": "Octave",
   "language": "octave",
   "name": "octave"
  },
  "language_info": {
   "file_extension": ".m",
   "help_links": [
    {
     "text": "GNU Octave",
     "url": "https://www.gnu.org/software/octave/support.html"
    },
    {
     "text": "Octave Kernel",
     "url": "https://github.com/Calysto/octave_kernel"
    },
    {
     "text": "MetaKernel Magics",
     "url": "https://metakernel.readthedocs.io/en/latest/source/README.html"
    }
   ],
   "mimetype": "text/x-octave",
   "name": "octave",
   "version": "7.3.0"
  },
  "orig_nbformat": 4,
  "vscode": {
   "interpreter": {
    "hash": "84f8f593ac82e7fcc1f9d39675db8043bfb4837af79ee0bee0ee9e121e5cce95"
   }
  }
 },
 "nbformat": 4,
 "nbformat_minor": 2
}
