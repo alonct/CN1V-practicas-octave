{
 "cells": [
  {
   "cell_type": "code",
   "execution_count": 22,
   "metadata": {
    "vscode": {
     "languageId": "python"
    }
   },
   "outputs": [],
   "source": [
    "clear all\n",
    "addpath('./Biblioteca')\n",
    "graphics_toolkit (\"gnuplot\"); %% Comando solo para jupyter notebooks\n",
    "output_precision(16)\n",
    "fmt='%5u\\t %+17.17f\\t %+17.17f\\n';"
   ]
  },
  {
   "cell_type": "code",
   "execution_count": 23,
   "metadata": {
    "vscode": {
     "languageId": "python"
    }
   },
   "outputs": [],
   "source": [
    "g = 9.807;\n",
    "T0 = (2*pi)/sqrt(g);\n",
    "\n",
    "a = 0;\n",
    "b = 3;\n",
    "\n",
    "f = @(x,alpha) 1./sqrt(1-((sin(alpha/2)).^2.*(sin(x)).^2));"
   ]
  },
  {
   "cell_type": "code",
   "execution_count": 34,
   "metadata": {
    "vscode": {
     "languageId": "python"
    }
   },
   "outputs": [],
   "source": [
    "function [x, fx, numpasos] = secante_mod(x0, x1, tol, maxit)\n",
    "    numpasos = 1;\n",
    "    imprime = 0;\n",
    "    fmt='%5u\\t %+17.17f\\t %+17.17f\\n';\n",
    "\n",
    "    f = @(x,alpha) 1./sqrt(1-((sin(alpha/2)).^2.*(sin(x)).^2));\n",
    "    g = 9.807;\n",
    "\n",
    "    alpha_0 = x0;\n",
    "    g0 = @(x) f(x, alpha_0);\n",
    "    ga0 = simpson(g0, 0, pi/2, 100) * (2/pi);\n",
    "\n",
    "    alpha_1 = x1;\n",
    "    g1 = @(x) f(x, alpha_1);\n",
    "    ga1 = simpson(g1, 0, pi/2, 100) * (2/pi);\n",
    "\n",
    "    if (imprime == 1) \n",
    "      printf(fmt,numpasos,alpha_1,ga1)\n",
    "    endif\n",
    "\n",
    "    while numpasos <= maxit\n",
    "        numpasos += 1;\n",
    "        if (abs(ga1 - ga0))<eps\n",
    "            disp('Pendiente = 0');\n",
    "            return;\n",
    "        endif\n",
    "\n",
    "        d = ga1 * (alpha_1 - alpha_0)/(ga1 - ga0);\n",
    "\n",
    "        alpha_0 = alpha_1;\n",
    "        ga0 = ga1;\n",
    "\n",
    "        alpha_1 = alpha_1 - d;\n",
    "        g1 = @(x) f(x, alpha_1);\n",
    "        ga1 = simpson(g1, 0, pi/2, 100) * (2/pi);\n",
    "\n",
    "        if (imprime == 1) \n",
    "            printf(fmt,numpasos,alpha_1,ga1)\n",
    "        endif\n",
    "\n",
    "        abs(d)\n",
    "        tol*(1+abs(alpha_1))\n",
    "\n",
    "        if (abs(d)<=tol*(1+abs(alpha_1)))\n",
    "            if abs(ga1) <= tol\n",
    "                return;\n",
    "            endif\n",
    "        endif\n",
    "\n",
    "    endwhile\n",
    "    disp('No hay convergencia.')\n",
    "endfunction"
   ]
  },
  {
   "cell_type": "code",
   "execution_count": 35,
   "metadata": {
    "vscode": {
     "languageId": "python"
    }
   },
   "outputs": [
    {
     "name": "stdout",
     "output_type": "stream",
     "text": [
      "ans = 0.884987693637568\n",
      "ans = 2.615012306362431e-14\n",
      "ans = 2.343121774284560\n",
      "ans = 1.728109467922128e-14\n",
      "ans = 15.29979946318217\n",
      "ans = 1.702790893110430e-13\n",
      "ans = 30.70729242903437\n",
      "ans = 1.567938349793006e-13\n",
      "ans = 62.51409805457373\n",
      "ans = 7.819348155250380e-13\n",
      "ans = 586.3460219150603\n",
      "ans = 6.645395034675642e-12\n",
      "ans = 2541.244491346767\n",
      "ans = 1.878704987879203e-11\n",
      "ans = 4803.015680661879\n",
      "ans = 6.681720668541082e-11\n",
      "ans = 37857.23679173915\n",
      "ans = 3.117751612319807e-10\n",
      "ans = 205583.2283794865\n",
      "ans = 2.367607445026845e-09\n",
      "ans = 326390.2975849724\n",
      "ans = 8.963155308228787e-10\n",
      "ans = 200213.3158245338\n",
      "ans = 2.898448689068216e-09\n",
      "ans = 5500375.032571138\n",
      "ans = 5.790219901477959e-08\n",
      "ans = 397871866.8837698\n",
      "ans = 4.036620867852477e-06\n",
      "ans = 1947167502.622545\n",
      "ans = 1.543505417837298e-05\n",
      "ans = 17592740215.55389\n",
      "ans = 1.913624563339119e-04\n",
      "ans = 63531630071.23197\n",
      "ans = 4.439538443984079e-04\n",
      "ans = 118226842581.9274\n",
      "ans = 1.626222270217682e-03\n",
      "ans = 6107571921424.664\n",
      "ans = 6.270194148446433e-02\n",
      "ans = 1.204729114494865e+17\n",
      "ans = 1204.791816436349\n",
      "ans = 4.715793234337770e+17\n",
      "ans = 3511.001417901420\n",
      "ans = 1.415056674705705e+18\n",
      "ans = 17661.56816495847\n",
      "ans = 6.182899945044510e+18\n",
      "ans = 44167.43128548663\n",
      "ans = 2.148649389462587e+19\n",
      "ans = 259032.3702317453\n",
      "ans = 4.130952754605631e+19\n",
      "ans = 154062.9052288178\n",
      "ans = 6.559902158804016e+19\n",
      "ans = 810053.1211092194\n",
      "ans = 2.324194990712449e+21\n",
      "ans = 22431896.78601527\n",
      "ans = 2.085016073673276e+22\n",
      "ans = 186069710.5813123\n",
      "ans = 1.058800294976032e+23\n",
      "ans = 1244870005.557344\n",
      "ans = 6.110702805940582e+23\n",
      "ans = 7355572811.497926\n",
      "ans = 9.995135255550360e+24\n",
      "ans = 92595779744.00568\n",
      "ans = 2.036457939836299e+25\n",
      "ans = 111050014239.6242\n",
      "ans = 1.238998600197473e+28\n",
      "ans = 123788810005507.7\n",
      "ans = 1.905556173059871e+28\n",
      "ans = 314344427311494.8\n",
      "ans = 4.911758911914093e+28\n",
      "ans = 176831463879914.4\n",
      "ans = 4.233493198197137e+28\n",
      "ans = 600180783699628.1\n",
      "ans = 3.355483229950474e+29\n",
      "ans = 2.755302446250846e+15\n",
      "ans = 1.894948379725980e+30\n",
      "ans = 2.170478624351064e+16\n",
      "ans = 8.222342671362394e+30\n",
      "ans = 6.051864047011330e+16\n",
      "ans = 1.613847804269464e+31\n",
      "ans = 1.008661399568331e+17\n",
      "ans = 9.823219547026196e+30\n",
      "ans = 1.990983354270950e+17\n",
      "ans = 2.159535085555012e+31\n",
      "ans = 1.685517312840616e+16\n",
      "ans = 5.063640316643558e+31\n",
      "ans = 5.232192047927620e+17\n",
      "ans = 3.276780414508892e+32\n",
      "ans = 3.799999619301654e+18\n",
      "ans = 5.737988235289897e+32\n",
      "ans = 1.937988615988243e+18\n",
      "ans = 3.757014670732794e+32\n",
      "ans = 5.695003286721037e+18\n",
      "ans = 1.470376415995134e+34\n",
      "ans = 1.527326448862344e+20\n",
      "ans = 5.540743708377982e+34\n",
      "ans = 4.013417259515638e+20\n",
      "ans = 2.286601854347420e+35\n",
      "ans = 2.687943580298984e+21\n",
      "ans = 2.732183352685967e+36\n",
      "ans = 3.000977710715866e+22\n",
      "No hay convergencia.\n",
      "error: 'x' undefined near line 1, column 11\n",
      "error: called from\n",
      "    secante_mod at line 52 column 1\n",
      "Can't locate Texinfo/ModulePath.pm in @INC (you may need to install the Texinfo::ModulePath module) (@INC contains: \\mingw64\\share\\texinfo C:/Strawberry/perl/site/lib C:/Strawberry/perl/vendor/lib C:/Strawberry/perl/lib) at makeinfo line 82.\n",
      "BEGIN failed--compilation aborted at makeinfo line 85.\n",
      "Can't locate Texinfo/ModulePath.pm in @INC (you may need to install the Texinfo::ModulePath module) (@INC contains: \\mingw64\\share\\texinfo C:/Strawberry/perl/site/lib C:/Strawberry/perl/vendor/lib C:/Strawberry/perl/lib) at makeinfo line 82.\n",
      "BEGIN failed--compilation aborted at makeinfo line 85.\n",
      "error: 'alpha' undefined near line 1, column 1\n",
      "Can't locate Texinfo/ModulePath.pm in @INC (you may need to install the Texinfo::ModulePath module) (@INC contains: \\mingw64\\share\\texinfo C:/Strawberry/perl/site/lib C:/Strawberry/perl/vendor/lib C:/Strawberry/perl/lib) at makeinfo line 82.\n",
      "BEGIN failed--compilation aborted at makeinfo line 85.\n",
      "Can't locate Texinfo/ModulePath.pm in @INC (you may need to install the Texinfo::ModulePath module) (@INC contains: \\mingw64\\share\\texinfo C:/Strawberry/perl/site/lib C:/Strawberry/perl/vendor/lib C:/Strawberry/perl/lib) at makeinfo line 82.\n",
      "BEGIN failed--compilation aborted at makeinfo line 85.\n",
      "error: 'alpha' undefined near line 1, column 6\n"
     ]
    },
    {
     "data": {
      "image/png": "[encoded data removed]",
      "text/plain": [
       "<IPython.core.display.Image object>"
      ]
     },
     "metadata": {},
     "output_type": "display_data"
    }
   ],
   "source": [
    "interval = linspace (0, 3, 500);\n",
    "\n",
    "figure(1)\n",
    "for i=1:length(interval)\n",
    "    h = @(x) f(x, interval(i));\n",
    "    T(i) = (simpson(h, 0, pi/2, 100) * 2/pi);\n",
    "endfor\n",
    "\n",
    "plot(interval, T, [0, pi], [1.5, 1.5])\n",
    "hold on\n",
    "\n",
    "x0 = 3;\n",
    "x1 = 2.5;\n",
    "\n",
    "[alpha, ga numpasos] = secante_mod(x0, x1, 1E-14, 50);\n",
    "alpha\n",
    "\n",
    "plot(alpha, ga, '*')"
   ]
  },
  {
   "cell_type": "code",
   "execution_count": 11,
   "metadata": {
    "vscode": {
     "languageId": "python"
    }
   },
   "outputs": [
    {
     "name": "stdout",
     "output_type": "stream",
     "text": [
      "    1\t +2.50000000000000000\t +0.14298239844576566\n",
      "    2\t +2.42298294665178293\t +0.07798822291469354\n",
      "    3\t +2.33056815600824185\t +0.01008845547591974\n",
      "    4\t +2.31683729159012008\t +0.00079951874313955\n",
      "    5\t +2.31565544658701494\t +0.00000884684192415\n",
      "    6\t +2.31564222290231703\t +0.00000000784016096\n",
      "    7\t +2.31564221117295910\t +0.00000000000007683\n",
      "    8\t +2.31564221117284408\t +0.00000000000000000\n",
      "    9\t +2.31564221117284408\t +0.00000000000000000\n",
      "x = 2.315642211172844\n",
      "fx = 0\n",
      "n = 9\n",
      "solucion: 2.315642211172844e+00\n",
      "\n",
      "Método de la secante\n",
      "La aproximación obtenida en   9 pasos es: 7.370918086808094e-01 *pi\n",
      "\n"
     ]
    },
    {
     "data": {
      "image/png": "[encoded data removed]",
      "text/plain": [
       "<IPython.core.display.Image object>"
      ]
     },
     "metadata": {},
     "output_type": "display_data"
    }
   ],
   "source": [
    "clear all\n",
    "\n",
    "g=9.807;\n",
    "\n",
    "H=@(z,a) 1./sqrt(1-((sin(a/2)).^2.*(sin(z)).^2));\n",
    "\n",
    "\n",
    "function [x,fx,npasos]=misecante(x0,x1,tol,maxit)\n",
    "  H=@(z,a) 1./sqrt(1-((sin(a/2)).^2.*(sin(z)).^2));\n",
    "  npasos=1;\n",
    "  imprime=1;\n",
    "  fmt='%5u\\t %+17.17f\\t %+17.17f\\n';\n",
    "  x=x1;\n",
    "  f=@(z) H(z,x);\n",
    "  fx=2*gaussLegendre(f,0,pi/2,50,10)/pi-1.5;\n",
    "  x_0=x0;\n",
    "  f=@(z) H(z,x_0);\n",
    "  fx_0=2*gaussLegendre(f,0,pi/2,50,10)/pi-1.5;\n",
    "  \n",
    "  if (imprime==1) \n",
    "      printf(fmt,npasos,x,fx)\n",
    "  endif\n",
    "    while npasos <= maxit\n",
    "      npasos = npasos +1;\n",
    "      if( abs(fx-fx_0)<eps )\n",
    "        disp('Secante: pendiente nula');\n",
    "        return;\n",
    "      end\n",
    "      deltax=fx*(x-x_0)/(fx-fx_0);\n",
    "      x_0=x;\n",
    "      fx_0=fx;\n",
    "      x=x-deltax;\n",
    "      f=@(z) H(z,x);\n",
    "      fx=2*gaussLegendre(f,0,pi/2,50,10)/pi-1.5;\n",
    "      if (imprime==1) \n",
    "         printf(fmt,npasos,x,fx)\n",
    "      endif   \n",
    "      if and((abs(deltax)<=tol*(1+abs(x))),(abs(fx)<=tol) )       \n",
    "      return;\n",
    "      endif\n",
    "     endwhile\n",
    "     disp('Secante: No hay convergencia '); \n",
    "endfunction\n",
    "\n",
    "\n",
    "\n",
    "z=linspace(0,3,200);\n",
    "figure(1)\n",
    "for k=1:length(z)\n",
    "  f=@(x) H(x,z(k));\n",
    "  C(k)=2*gaussLegendre(f,0,pi/2,50,10)/pi;\n",
    "endfor \n",
    "plot(z,C,[0,pi],[1.5,1.5])\n",
    "hold on\n",
    "pause(3)\n",
    "\n",
    "x0=3;\n",
    "x1=2.5;\n",
    "[x,fx,n]=misecante(x0,x1,1E-14,20)\n",
    "printf('solucion: %15.15e\\n',x)\n",
    "plot(x,fx+1.5,'*')\n",
    "display('')\n",
    "display('Método de la secante')\n",
    "printf('La aproximación obtenida en %3u pasos es: %15.15e *pi\\n',n,x/pi)\n",
    "display('')"
   ]
  }
 ],
 "metadata": {
  "kernelspec": {
   "display_name": "Octave",
   "language": "python",
   "name": "octave"
  },
  "language_info": {
   "file_extension": ".m",
   "help_links": [
    {
     "text": "GNU Octave",
     "url": "https://www.gnu.org/software/octave/support.html"
    },
    {
     "text": "Octave Kernel",
     "url": "https://github.com/Calysto/octave_kernel"
    },
    {
     "text": "MetaKernel Magics",
     "url": "https://metakernel.readthedocs.io/en/latest/source/README.html"
    }
   ],
   "mimetype": "text/x-octave",
   "name": "octave",
   "version": "7.3.0"
  },
  "orig_nbformat": 4,
  "vscode": {
   "interpreter": {
    "hash": "9a4cacba0ebdebe39c94429364f4ca61b32f9692f9141b13a9501508bd48510c"
   }
  }
 },
 "nbformat": 4,
 "nbformat_minor": 2
}
