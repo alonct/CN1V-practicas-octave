{
 "cells": [
  {
   "cell_type": "code",
   "execution_count": null,
   "metadata": {},
   "outputs": [],
   "source": [
    "clear all\n",
    "addpath('./Biblioteca')\n",
    "graphics_toolkit (\"gnuplot\"); %% Comando solo para jupyter notebooks"
   ]
  }
 ],
 "metadata": {
  "kernelspec": {
   "display_name": "Octave",
   "language": "python",
   "name": "octave"
  },
  "language_info": {
   "name": "python",
   "version": "3.9.13 (main, Aug 25 2022, 23:51:50) [MSC v.1916 64 bit (AMD64)]"
  },
  "orig_nbformat": 4,
  "vscode": {
   "interpreter": {
    "hash": "9a4cacba0ebdebe39c94429364f4ca61b32f9692f9141b13a9501508bd48510c"
   }
  }
 },
 "nbformat": 4,
 "nbformat_minor": 2
}
